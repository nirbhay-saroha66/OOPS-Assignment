{
  "nbformat": 4,
  "nbformat_minor": 0,
  "metadata": {
    "colab": {
      "provenance": []
    },
    "kernelspec": {
      "name": "python3",
      "display_name": "Python 3"
    },
    "language_info": {
      "name": "python"
    }
  },
  "cells": [
    {
      "cell_type": "markdown",
      "source": [
        "**Q1) What is Object-Oriented Programming (OOP)?**"
      ],
      "metadata": {
        "id": "d3TS1jH67Fy2"
      }
    },
    {
      "cell_type": "code",
      "execution_count": 2,
      "metadata": {
        "colab": {
          "base_uri": "https://localhost:8080/",
          "height": 54
        },
        "id": "4IwHqR334oTc",
        "outputId": "d77b6a20-f698-473d-c926-f29628e1184f"
      },
      "outputs": [
        {
          "output_type": "execute_result",
          "data": {
            "text/plain": [
              "'\\nObject-Oriented Programming (OOP) is a programming paradigm based on the concept\\nof objects, which represent real-world entities and are used to structure software \\nin a modular and reusable way. OOP focuses on organizing code around objects rather \\nthan actions, and data rather than logic.\\n'"
            ],
            "application/vnd.google.colaboratory.intrinsic+json": {
              "type": "string"
            }
          },
          "metadata": {},
          "execution_count": 2
        }
      ],
      "source": [
        "\"\"\"\n",
        "Object-Oriented Programming (OOP) is a programming paradigm based on the concept\n",
        "of objects, which represent real-world entities and are used to structure software\n",
        "in a modular and reusable way. OOP focuses on organizing code around objects rather\n",
        "than actions, and data rather than logic.\n",
        "\"\"\""
      ]
    },
    {
      "cell_type": "markdown",
      "source": [
        "**Q2) What is a class in OOP?**"
      ],
      "metadata": {
        "id": "9OkOnmx67n_d"
      }
    },
    {
      "cell_type": "code",
      "source": [
        "\"\"\"\n",
        " class in Object-Oriented Programming (OOP) is a blueprint or for creating\n",
        " objects.\n",
        " It defines the attributes (data members) and methods (functions) that\n",
        " the objects created from the class will have.\n",
        "\n",
        " key concepts of class:\n",
        " 1.attributes: variables that store state or data of an object\n",
        "2. medhods(functions within class): function defined within a class that represent\n",
        "                                    the behavior of object\n",
        "3.constructor: special medhod used to initialize the object when it is created\n",
        "\"\"\""
      ],
      "metadata": {
        "colab": {
          "base_uri": "https://localhost:8080/",
          "height": 54
        },
        "id": "uC4qqqsF4vT8",
        "outputId": "014b7431-4d9e-4ffc-8516-34a9d128d34c"
      },
      "execution_count": 3,
      "outputs": [
        {
          "output_type": "execute_result",
          "data": {
            "text/plain": [
              "'\\n class in Object-Oriented Programming (OOP) is a blueprint or for creating \\n objects. \\n It defines the attributes (data members) and methods (functions) that \\n the objects created from the class will have.\\n\\n key concepts of class:\\n'"
            ],
            "application/vnd.google.colaboratory.intrinsic+json": {
              "type": "string"
            }
          },
          "metadata": {},
          "execution_count": 3
        }
      ]
    },
    {
      "cell_type": "markdown",
      "source": [
        "**Q3) What is an object in OOP?**"
      ],
      "metadata": {
        "id": "Pkj83ghM_Im5"
      }
    },
    {
      "cell_type": "code",
      "source": [
        "\"\"\"\n",
        "An object is an instance of a class in Object-Oriented Programming (OOP).\n",
        "It represents a real-world entity with state (attributes) and behavior (methods).\n",
        "\n",
        "Characteristics of an Object:\n",
        "\n",
        "1.State: Represented by attributes (variables) that store the object's data.\n",
        "2.Behavior: Represented by methods (functions) that define the object's actions.\n",
        "3.Identity:Every object has a unique identity (memory location) that distinguishes\n",
        "          it from other objects.\n",
        "\n",
        "\"\"\""
      ],
      "metadata": {
        "id": "BdEprMGT8KTh"
      },
      "execution_count": null,
      "outputs": []
    },
    {
      "cell_type": "markdown",
      "source": [
        "**Q4) What is the difference between abstraction and encapsulation?**"
      ],
      "metadata": {
        "id": "Z4ep4_Q4_3FE"
      }
    },
    {
      "cell_type": "code",
      "source": [
        "\"\"\"\n",
        "abstraction    vs     encapsulation\n",
        "1. defination:\n",
        "=>abstaction: hides implementation details and shows only essential features of object\n",
        "=>encapsulation: Hides the internal state of an object and restricts direct access to it.\n",
        "\n",
        "2.purpose:\n",
        "=>abstraction: To simplify complex systems by breaking them into smaller, understandable parts.\n",
        "=>encalsulation: To protect data and ensure controlled access and modification.\n",
        "\n",
        "3.Focus:\n",
        "=>abstraction:Focuses on what an object does.\n",
        "=>encapsulation:Focuses on how the object’s data is protected.\n",
        "\n",
        "4.Implementation:\n",
        "=>abstraction: Achieved through abstract classes and interfaces.\n",
        "=>encapsulation: Achieved through access modifiers (public, private, protected).\n",
        "\n",
        "5.access:\n",
        "=>abstraction: Shows only the relevant functionality to the user.\n",
        "=>encapsulation: Restricts access to the internal details of the class.\n",
        "\"\"\""
      ],
      "metadata": {
        "id": "EEqthQ3-_7u-"
      },
      "execution_count": null,
      "outputs": []
    },
    {
      "cell_type": "markdown",
      "source": [
        "**Q5) What are dunder methods in Python?**"
      ],
      "metadata": {
        "id": "J039mk5OCEdK"
      }
    },
    {
      "cell_type": "code",
      "source": [
        "\"\"\"\n",
        "Dunder methods are special methods in Python with names that begin and end with\n",
        "double underscores, like __init__, __str__, and __len__.\n",
        "They are also referred to as magic methods.\n",
        "\n",
        "These methods are predefined in Python to provide special behavior to objects,\n",
        "such as customizing object initialization, representation, arithmetic operations, and more.\n",
        "\"\"\""
      ],
      "metadata": {
        "id": "lGLVelOyCIq_"
      },
      "execution_count": null,
      "outputs": []
    },
    {
      "cell_type": "markdown",
      "source": [
        "**Q6) Explain the concept of inheritance in OOP?**"
      ],
      "metadata": {
        "id": "3cgi44MRKW9R"
      }
    },
    {
      "cell_type": "code",
      "source": [
        "\"\"\"\n",
        "Inheritance is an OOP concept where one class (child/subclass) acquires\n",
        "the properties and behaviors (methods and attributes) of another class (parent/superclass).\n",
        "\n",
        "It allows code reusability, hierarchical classification, and promotes a logical structure in programs.\n",
        "\n",
        "Concepts of Inheritance\n",
        "1.Parent Class (Superclass): The class whose properties and methods are inherited.\n",
        "2.Child Class (Subclass): The class that inherits from the parent class.\n",
        "3.Reusability: Instead of rewriting code, child classes can reuse the methods\n",
        "              and attributes of the parent class.\n",
        "4.Method Overriding: The child class can override methods of the parent class\n",
        "                     to provide its own implementation.\n",
        "\n",
        "Types of Inheritance:\n",
        "1.Single Inheritance: One child class inherits from one parent class.\n",
        "2.Multiple Inheritance: A child class inherits from more than one parent class.\n",
        "3.Multilevel Inheritance: A child class becomes a parent for another class.\n",
        "4.Hierarchical Inheritance: Multiple child classes inherit from one parent class.\n",
        "5.Hybrid Inheritance: A combination of any of the above types.\n",
        "\n",
        "\n",
        "\"\"\""
      ],
      "metadata": {
        "colab": {
          "base_uri": "https://localhost:8080/",
          "height": 144
        },
        "id": "8IPYGpIWKdGy",
        "outputId": "d226e596-aeef-4b82-f906-e44d6cb69819"
      },
      "execution_count": 5,
      "outputs": [
        {
          "output_type": "execute_result",
          "data": {
            "text/plain": [
              "'\\nInheritance is an OOP concept where one class (child/subclass) acquires \\nthe properties and behaviors (methods and attributes) of another class (parent/superclass).\\n\\nIt allows code reusability, hierarchical classification, and promotes a logical structure in programs.\\n\\nConcepts of Inheritance\\n1.Parent Class (Superclass): The class whose properties and methods are inherited.\\n2.Child Class (Subclass): The class that inherits from the parent class.\\n3.Reusability: Instead of rewriting code, child classes can reuse the methods \\n              and attributes of the parent class.\\n4.Method Overriding: The child class can override methods of the parent class \\n                     to provide its own implementation.\\n\\nTypes of Inheritance:\\n1.Single Inheritance: One child class inherits from one parent class.\\n2.Multiple Inheritance: A child class inherits from more than one parent class.\\n3.Multilevel Inheritance: A child class becomes a parent for another class.\\n4.Hierarchical Inheritance: Multiple child classes inherit from one parent class.\\n5.Hybrid Inheritance: A combination of any of the above types.\\n\\n\\n'"
            ],
            "application/vnd.google.colaboratory.intrinsic+json": {
              "type": "string"
            }
          },
          "metadata": {},
          "execution_count": 5
        }
      ]
    },
    {
      "cell_type": "markdown",
      "source": [
        "Q7) What is polymorphism in OOP?"
      ],
      "metadata": {
        "id": "71yOoD1-LhR8"
      }
    },
    {
      "cell_type": "code",
      "source": [
        "\"\"\"\n",
        "Polymorphism is a fundamental concept in OOP that allows objects of different\n",
        "classes to be treated as objects of a common superclass.\n",
        "It enables a single interface to represent different underlying data types or behaviors.\n",
        "\n",
        "Concepts of Polymorphism:\n",
        "1.Method Overriding: Allows a child class to provide a specific implementation\n",
        "                     of a method already defined in its parent class.\n",
        "2.Method Overloading:Allows defining multiple methods with the same name but\n",
        "                     different parameters\n",
        "3.Operator Overloading: Enables *operators to behave differently\n",
        "                        based on the operands' data types.\n",
        "4.Duck Typing: In Python, if an object looks like a duck and quacks like a duck,\n",
        "               it’s treated as a duck—regardless of its actual class.\n",
        "\n",
        "Types of Polymorphism:\n",
        "1.Compile-Time Polymorphism (Static Polymorphism):\n",
        "=>Method overloading and operator overloading fall under this category.\n",
        "Determined at compile-time.\n",
        "2.Run-Time Polymorphism (Dynamic Polymorphism):\n",
        "=>Method overriding is an example.\n",
        "Determined at runtime.\n",
        "\n",
        "\n",
        "\"\"\""
      ],
      "metadata": {
        "id": "yVoRvSt0LpCN"
      },
      "execution_count": null,
      "outputs": []
    },
    {
      "cell_type": "markdown",
      "source": [
        "**Q8) How is encapsulation achieved in Python?**"
      ],
      "metadata": {
        "id": "laO59m1rNSdS"
      }
    },
    {
      "cell_type": "code",
      "source": [
        "\"\"\"\n",
        "Encapsulation is an Object-Oriented Programming (OOP) concept that aims to restrict\n",
        "direct access to an object's data and allows controlled interaction through methods.\n",
        "\n",
        "In Python, encapsulation is achieved using:\n",
        "\n",
        "1.Access Modifiers: public, protected, and private attributes and methods.\n",
        "2.Getter and Setter Methods: To control access and modification of private attributes.\n",
        "\n",
        "\"\"\""
      ],
      "metadata": {
        "id": "-Q7bho6MKdzB"
      },
      "execution_count": null,
      "outputs": []
    },
    {
      "cell_type": "markdown",
      "source": [
        "**Q9) What is a constructor in Python?**"
      ],
      "metadata": {
        "id": "S_2cynYKOHvs"
      }
    },
    {
      "cell_type": "code",
      "source": [
        "\"\"\"\n",
        "A constructor in Python is a special method used to initialize an object’s state\n",
        "when it is created. It is called automatically when a new instance of a class is created.\n",
        "\n",
        "In Python, the constructor method is defined using the __init__ method.\n",
        "\n",
        "Key Features of a Constructor\n",
        "1.Automatic Invocation: Called automatically when an object is created.\n",
        "2.Initialize State: Used to assign values to object properties or perform setup tasks.\n",
        "3.Optional Arguments: Can accept parameters to initialize object attributes dynamically.\n",
        "\n",
        "Types of Constructors in Python:\n",
        "1.Default Constructor: A constructor that does not accept arguments except self.\n",
        "2.Parameterized Constructor: A constructor that accepts parameters to initialize object properties.\n",
        "\n",
        "\"\"\""
      ],
      "metadata": {
        "id": "8gm4WNYBOMmA"
      },
      "execution_count": null,
      "outputs": []
    },
    {
      "cell_type": "markdown",
      "source": [
        "**Q10) What are class and static methods in Python?**"
      ],
      "metadata": {
        "id": "OkLWp-bAgeye"
      }
    },
    {
      "cell_type": "code",
      "source": [
        "\"\"\"\n",
        "In Python, class methods and static methods are two types of methods used in\n",
        "object-oriented programming. Both are defined using decorators (@classmethod and @staticmethod)\n",
        "and serve distinct purposes.\n",
        "\n",
        "=>Class Method: A class method is bound to the class rather than the instance of the class.\n",
        "It can access and modify class-level variables but cannot directly access or modify instance-level variables.\n",
        "\n",
        "Key Features of Class Methods:\n",
        "1.Defined using the @classmethod decorator.\n",
        "2.The cls parameter represents the class itself (not an instance).\n",
        "3.Can access and modify class variables.\n",
        "4.Cannot access instance-specific variables directly.\n",
        "\n",
        "=>Static Method: A static method is a method that does not depend on the class or instance state.\n",
        "It behaves like a regular function, but it belongs to the class's namespace.\n",
        "\n",
        "Key Features of Static Methods:\n",
        "1.Defined using the @staticmethod decorator.\n",
        "2.Does not take self or cls as its first argument.\n",
        "3.Cannot access or modify instance variables or class variables directly.\n",
        "4.Used when a method performs a task that is independent of the class or instance.\n",
        "\n",
        "\n",
        "\"\"\""
      ],
      "metadata": {
        "id": "dQDwQqXIglwU"
      },
      "execution_count": null,
      "outputs": []
    },
    {
      "cell_type": "markdown",
      "source": [
        "**Q11) What is method overloading in Python?**"
      ],
      "metadata": {
        "id": "hAjj6Kn7eyZH"
      }
    },
    {
      "cell_type": "code",
      "source": [
        "\"\"\"\n",
        "Method overloading refers to the ability to define multiple methods with the same name\n",
        "but different parameters within the same class.\n",
        "It allows one method name to perform different tasks based on the number or type of arguments passed to it.\n",
        "\n",
        "However, Python does not directly support method overloading because:\n",
        "\n",
        "Python methods cannot have multiple definitions with the same name in a class.\n",
        "Only the last defined method with a given name will be retained.\n",
        "\n",
        "method overloading is achieved in Python using:\n",
        "1.Default Arguments\n",
        "2.Variable-Length Arguments (*args and **kwargs)\n",
        "\"\"\""
      ],
      "metadata": {
        "id": "ngrrlbsMe2PY"
      },
      "execution_count": null,
      "outputs": []
    },
    {
      "cell_type": "markdown",
      "source": [
        "**Q12) What is method overriding in OOP?**"
      ],
      "metadata": {
        "id": "I86JTgw7fgJl"
      }
    },
    {
      "cell_type": "code",
      "source": [
        "\"\"\"\n",
        "Method overriding is an Object-Oriented Programming (OOP) feature that allows a\n",
        "subclass (child class) to provide a specific implementation of a method already defined in its superclass (parent class).\n",
        "\n",
        "The overridden method in the child class must have the same:\n",
        "1.Method name\n",
        "2.Parameters\n",
        "3.Return type (if applicable)\n",
        "Method overriding is mainly used to achieve runtime polymorphism and dynamic method dispatch.\n",
        "\n",
        "Features of Method Overriding\n",
        "1️.Inheritance is Required: The child class must inherit from the parent class.\n",
        "2️.Same Method Signature: The method in the child class must have the same name and arguments as in the parent class.\n",
        "3️.Dynamic Dispatch: The method that gets called is determined at runtime based on the object type.\n",
        "4️.Parent Method Access: You can still access the parent class method using super().\n",
        "\"\"\""
      ],
      "metadata": {
        "id": "L4hL-gzlfl0-"
      },
      "execution_count": null,
      "outputs": []
    },
    {
      "cell_type": "markdown",
      "source": [
        "**Q13) What is a property decorator in Python?**"
      ],
      "metadata": {
        "id": "BPsn3KuEgNxO"
      }
    },
    {
      "cell_type": "code",
      "source": [
        "\"\"\"\n",
        "The property decorator in Python is used to define methods that can be accessed like attributes.\n",
        "It allows you to encapsulate instance variables by controlling their access, modification,\n",
        "and validation without changing the syntax used to access them.\n",
        "\n",
        "This decorator is part of Python's built-in property system and helps implement\n",
        "the getter, setter, and deleter functionality for class attributes.\n",
        "\n",
        "Usage property Decorator:\n",
        "1.Encapsulation: Hide internal representation and enforce constraints on attribute access.\n",
        "2.Validation: Validate values before assigning them to an attribute.\n",
        "3.Read-Only Attributes: Prevent unwanted modifications.\n",
        "4.Improved Syntax: Access methods like attributes, improving code readability.\n",
        "\n",
        "Benefits of Using property:\n",
        "1.Encapsulation: Protect internal variables while exposing a clean interface.\n",
        "2.Validation: Apply validation logic before assigning values.\n",
        "3.Readability: Access methods as attributes (object.attribute instead of object.get_attribute()).\n",
        "4.Compatibility: Refactor getter/setter methods without affecting the existing codebase.\n",
        "\"\"\""
      ],
      "metadata": {
        "id": "3fC2ySeXhebw"
      },
      "execution_count": null,
      "outputs": []
    },
    {
      "cell_type": "markdown",
      "source": [
        "**Q14) Why is polymorphism important in OOP?**"
      ],
      "metadata": {
        "id": "ZzIrBRNHiWKs"
      }
    },
    {
      "cell_type": "code",
      "source": [
        "\"\"\"\n",
        "=>Code Reusability:\n",
        "1.You can write generalized code that works with different data types or objects.\n",
        "2.Avoids duplicate code for similar behaviors.\n",
        "\n",
        "=>Flexibility and Extensibility:\n",
        "1.New classes can override or extend behaviors without modifying the existing code.\n",
        "2.Easy to add new functionality without affecting the existing system.\n",
        "\n",
        "=>Easier Maintenance:\n",
        "1.Common interfaces reduce code duplication and simplify maintenance.\n",
        "2.Changes in one place are reflected across all derived classes.\n",
        "\n",
        "=>Improved Code Readability:\n",
        "1.A consistent interface across different objects improves clarity.\n",
        "2.Developers don’t need to know the specific class implementation.\n",
        "\n",
        "\n",
        "\"\"\""
      ],
      "metadata": {
        "id": "-sD3yFErin7Z"
      },
      "execution_count": null,
      "outputs": []
    },
    {
      "cell_type": "markdown",
      "source": [
        "**Q15) What is an abstract class in Python?**"
      ],
      "metadata": {
        "id": "WUz4lTKcjIlI"
      }
    },
    {
      "cell_type": "code",
      "source": [
        "\"\"\"\n",
        "An abstract class in Python is a blueprint for other classes.\n",
        "It defines a common interface for its subclasses but cannot be instantiated directly.\n",
        "Abstract classes are used to enforce certain methods in derived classes, ensuring they follow a specific structure.\n",
        "\n",
        "Key Features of Abstract Classes:\n",
        "1.Cannot be instantiated directly — You cannot create an object of an abstract class.\n",
        "2.Abstract Methods — Must be implemented in derived classes.\n",
        "3.Concrete Methods — Can have methods with implementation.\n",
        "4.Defined using ABC (Abstract Base Class) and @abstractmethod decorator.\n",
        "\n",
        "\n",
        "\"\"\""
      ],
      "metadata": {
        "id": "wB1N_uiLjLwX"
      },
      "execution_count": null,
      "outputs": []
    },
    {
      "cell_type": "markdown",
      "source": [
        "**Q16) What are the advantages of OOP?**"
      ],
      "metadata": {
        "id": "iYC0yHKIkECz"
      }
    },
    {
      "cell_type": "code",
      "source": [
        "\"\"\"\n",
        "=>Modularity and Code Organization:\n",
        "1.Code is organized into classes and objects, making it easier to understand, debug, and maintain.\n",
        "2.Large projects can be broken down into smaller, manageable modules.\n",
        "\n",
        "=>Reusability:\n",
        "1.Through inheritance, you can reuse code from existing classes without rewriting it.\n",
        "2.Reduces code duplication and improves efficiency.\n",
        "\n",
        "=>Encapsulation:\n",
        "1.Data hiding is achieved using private variables and accessors (getters/setters).\n",
        "2.Protects object integrity by restricting direct access to its fields.\n",
        "\n",
        "=>Abstraction:\n",
        "1.Only essential details of an object are exposed, hiding the implementation complexity.\n",
        "2.Makes it easier to work with complex systems.\n",
        "\n",
        "=>Polymorphism:\n",
        "1.Allows the same method name to behave differently for different objects.\n",
        "2.Enhances flexibility and scalability.\n",
        "\n",
        "=>Scalability:\n",
        "1.New features or classes can be easily added without altering existing code.\n",
        "2.Supports the Open/Closed Principle (open for extension, closed for modification).\n",
        "\n",
        "=>Maintainability:\n",
        "1.Clear separation of concerns due to encapsulation and modularity.\n",
        "2.Bugs and errors can be identified and fixed faster.\n",
        "\n",
        "=>Improved Collaboration:\n",
        "1.Teams can work simultaneously on different classes without interfering with each other.\n",
        "2.Interfaces and abstract classes define clear contracts for collaboration.\n",
        "\n",
        "=>Flexibility with Design Patterns:\n",
        "1.OOP supports many design patterns (e.g., Singleton, Factory, Observer).\n",
        "2.These patterns make it easier to solve common software design problems.\n",
        "\n",
        "=>Real-World Modeling:\n",
        "1.OOP maps software design closely to real-world entities.\n",
        "2.Objects represent real-world things like Person, Car, or Book.\n",
        "\"\"\""
      ],
      "metadata": {
        "id": "WPSnRjf7kHAT"
      },
      "execution_count": null,
      "outputs": []
    },
    {
      "cell_type": "markdown",
      "source": [
        "Q17) What is the difference between a class variable and an instance variable?\n"
      ],
      "metadata": {
        "id": "BtcryB5flB7O"
      }
    },
    {
      "cell_type": "code",
      "source": [
        "\"\"\"\n",
        "Class Variable:\n",
        "\n",
        "=>Definition:\n",
        "1.A class variable is shared across all instances of a class.\n",
        "2.It is defined outside any instance methods, typically at the class level.\n",
        "\n",
        "=>Key Characteristics:\n",
        "1.Shared by all instances of the class.\n",
        "2.Defined directly inside the class, but outside any method.\n",
        "3.Accessed using either the class name or an instance object.\n",
        "4.Changes made to the variable via the class affect all instances.\n",
        "\n",
        "\n",
        "Instance Variable:\n",
        "\n",
        "=>Definition:\n",
        "1.An instance variable is specific to each object (instance).\n",
        "2.It is defined inside the constructor (__init__) or within any instance method using self.\n",
        "\n",
        "=>Key Characteristics:\n",
        "1.Unique to each object instance.\n",
        "2.Defined using self, e.g., self.variable_name.\n",
        "3.Changes made to one instance variable do not affect others.\n",
        "\"\"\""
      ],
      "metadata": {
        "id": "kIEyY-9-lJbR"
      },
      "execution_count": null,
      "outputs": []
    },
    {
      "cell_type": "markdown",
      "source": [
        "**Q18) What is multiple inheritance in Python?**"
      ],
      "metadata": {
        "id": "9LPGYke-mEmI"
      }
    },
    {
      "cell_type": "code",
      "source": [
        "\"\"\"\n",
        "Multiple inheritance is an Object-Oriented Programming (OOP) concept where a class\n",
        "can inherit from more than one parent class. Python supports multiple inheritance,\n",
        "allowing a child class to inherit attributes and methods from multiple parent classes.\n",
        "\n",
        "=>Key Characteristics of Multiple Inheritance:\n",
        "1.Access to Multiple Parent Class Features: The child class can access methods and attributes from all parent classes.\n",
        "2.Code Reusability: Reduce redundancy by reusing code from multiple classes.\n",
        "3.Flexibility: Combine functionalities from multiple parent classes into a single child class.\n",
        "4.Method Resolution Order (MRO): Python uses the C3 linearization algorithm to determine the method resolution order.\n",
        "\n",
        "=>Advantages of Multiple Inheritance:\n",
        "1.Code Reusability: Share functionality across multiple classes.\n",
        "2.Flexibility: Combine behaviors from different parent classes.\n",
        "3.Scalability: Add new functionalities without rewriting code.\n",
        "\n",
        "=>Challenges of Multiple Inheritance:\n",
        "1.Ambiguity: Confusion arises if two parent classes have methods with the same name.\n",
        "2.Complex Hierarchies: Can become difficult to understand and maintain.\n",
        "\n",
        "\"\"\""
      ],
      "metadata": {
        "id": "fuHL7fh5mIoY"
      },
      "execution_count": null,
      "outputs": []
    },
    {
      "cell_type": "markdown",
      "source": [
        "**Q19) Explain the purpose of __str__ and __repr__ methods in Python?**"
      ],
      "metadata": {
        "id": "j2LwhI6mnOPy"
      }
    },
    {
      "cell_type": "code",
      "source": [
        "\"\"\"\n",
        "__str__ and __repr__ are special methods (dunder methods) used to define how an object is represented as a string.\n",
        "\n",
        "=>__str__ Method:\n",
        "\n",
        "Purpose:\n",
        "1.The __str__ method returns a human-readable or informal string representation of an object.\n",
        "2.It’s meant to be easily understandable by users.\n",
        "\n",
        "Called By:\n",
        "1.The built-in print() function.\n",
        "2.The str() function.\n",
        "\n",
        "=>__str__ Method:\n",
        "\n",
        "Purpose:\n",
        "1.The __str__ method returns a human-readable or informal string representation of an object.\n",
        "2.It’s meant to be easily understandable by users.\n",
        "\n",
        "Called By:\n",
        "1.The built-in print() function.\n",
        "2.The str() function.\n",
        "\"\"\""
      ],
      "metadata": {
        "id": "1V_LiaelnV0I"
      },
      "execution_count": null,
      "outputs": []
    },
    {
      "cell_type": "markdown",
      "source": [
        "Q20)  What is the significance of the super() function in Python?\n"
      ],
      "metadata": {
        "id": "pvqakcmun76I"
      }
    },
    {
      "cell_type": "code",
      "source": [
        "\"\"\"\n",
        "The super() function is an essential feature in Python, used to call methods from\n",
        "a parent or superclass in the context of inheritance. It plays a significant role\n",
        "in method resolution order (MRO) and facilitates proper inheritance behavior in object-oriented programming (OOP).\n",
        "\n",
        "=>Key Purposes of super():\n",
        "\n",
        "1. Accessing Parent Class Methods:\n",
        "super() is mainly used to call methods from the parent class (or multiple parent classes in case of multiple inheritance).\n",
        "This is especially useful when a child class overrides a method from the parent class, but you still want to invoke the parent class’s method.\n",
        "\n",
        "2. Avoiding Hard-Coding the Parent Class Name:\n",
        "Instead of explicitly naming the parent class, super() provides a more flexible and maintainable way to call the parent method, especially when dealing with\n",
        "multiple inheritance or changing class hierarchies.\n",
        "\n",
        "3. Facilitating Method Resolution Order (MRO):\n",
        "super() helps in invoking the next class in the method resolution order (MRO) when dealing with multiple inheritance. This ensures that\n",
        "each class’s method is called in the correct order.\n",
        "\"\"\""
      ],
      "metadata": {
        "id": "-DJ4dzHGoE8h"
      },
      "execution_count": null,
      "outputs": []
    },
    {
      "cell_type": "markdown",
      "source": [
        "**Q21) What is the significance of the __del__ method in Python?**"
      ],
      "metadata": {
        "id": "2FNH3x0grjnH"
      }
    },
    {
      "cell_type": "code",
      "source": [
        "\"\"\"\n",
        "The __del__ method is a special method in Python, often referred to as the destructor.\n",
        "It is called when an object is about to be destroyed (i.e., when it is no longer in use or referenced).\n",
        "It allows you to define cleanup actions, such as releasing resources, closing files, or freeing memory, when the object is destroyed.\n",
        "\n",
        "=>Purpose of the __del__ Method:\n",
        "\n",
        "1.Object Cleanup:\n",
        "The __del__ method is primarily used to clean up resources acquired by the object during its lifetime. For example, closing files or network connections.\n",
        "\n",
        "Destructor:\n",
        "It acts as the destructor in Python's memory management system, similar to destructors in other programming languages (like C++).\n",
        "It gets called just before the object is destroyed, typically when its reference count drops to zero.\n",
        "\"\"\""
      ],
      "metadata": {
        "id": "aNKhRyhOrm6g"
      },
      "execution_count": null,
      "outputs": []
    },
    {
      "cell_type": "markdown",
      "source": [
        "**Q22) What is the difference between @staticmethod and @classmethod in Python?**"
      ],
      "metadata": {
        "id": "DM6MxVPXsBmg"
      }
    },
    {
      "cell_type": "code",
      "source": [
        "\"\"\"\n",
        "1.defination:\n",
        "=>@statcimethod: A static method does not take the self or cls parameter.\n",
        "=>@classmedhod: A class method takes the cls parameter, which refers to the class itself.\n",
        "\n",
        "2.Access:\n",
        "=>@staticmedhod:Can access only static variables or perform operations that do not depend on class or instance attributes.\n",
        "=>@classmedhod: Can access class variables and modify class-level data.\n",
        "\n",
        "3.Binding:\n",
        "=>@staticmedhod: Bound to the class but not to any instance, so it cannot modify the state of the class or instance.\n",
        "=>@classmedhod: Bound to the class, allowing it to modify the state of the class itself (but not individual instances).\n",
        "\n",
        "4.Use cases:\n",
        "=>@staticmedhod:When the method does not need to access any instance or class data and only performs independent logic.\n",
        "=>@classmedhod: When you need to access or modify class-level data, or need a factory method to create instances.\n",
        "\n",
        "5.Calling:\n",
        "=>@staticmedhod: Called on the class or an instance.\n",
        "=>@classmedhod: Called on the class (typically), but can also be called on an instance.\n",
        "\"\"\""
      ],
      "metadata": {
        "id": "HavnmBwesHa1"
      },
      "execution_count": null,
      "outputs": []
    },
    {
      "cell_type": "markdown",
      "source": [
        "**Q23) How does polymorphism work in Python with inheritance?**"
      ],
      "metadata": {
        "id": "11OT19Rws89O"
      }
    },
    {
      "cell_type": "code",
      "source": [
        "\"\"\"\n",
        "Polymorphism can be implemented in Python in several ways, including method overriding and duck typing.\n",
        "\n",
        "=>Key Concepts of Polymorphism in Inheritance\n",
        "\n",
        "1.Method Overriding:\n",
        "A subclass can override a method of its parent class to provide a custom implementation.\n",
        "When you call a method on an instance of the subclass, the subclass's version of the method is invoked, even if you are calling it through the parent class reference.\n",
        "\n",
        "2.Dynamic Method Resolution:\n",
        "Python determines which method to call at runtime based on the actual type of the object, not the reference type.\n",
        "This is why polymorphism is often referred to as \"dynamic\" polymorphism.\n",
        "\n",
        "\n",
        "\"\"\""
      ],
      "metadata": {
        "id": "cKjiJglqsi6o"
      },
      "execution_count": null,
      "outputs": []
    },
    {
      "cell_type": "markdown",
      "source": [
        "**Q24) What is method chaining in Python OOP?**"
      ],
      "metadata": {
        "id": "vMgjaKUXuQKP"
      }
    },
    {
      "cell_type": "code",
      "source": [
        "\"\"\"\n",
        "Method chaining is a technique in object-oriented programming (OOP) where multiple methods are called on the same object in a single line of code.\n",
        "Each method in the chain returns the object itself (or a modified version of it), allowing the next method to be called on that object, and so on.\n",
        "\n",
        "This technique helps to increase code readability and conciseness while performing multiple actions on the same object.\n",
        "\n",
        "=>How Method Chaining Works:\n",
        "1.Chaining happens because each method in the chain returns the object (typically, the self object).\n",
        "2.This allows you to call another method on the same object without needing to reference the object again.\n",
        "\n",
        "=>Benefits of Method Chaining:\n",
        "1.Conciseness:\n",
        "You can perform multiple operations on an object without writing repetitive references to the object.\n",
        "\n",
        "2.Improved Readability:\n",
        "Method chaining allows you to express a sequence of actions in a compact and easy-to-understand manner.\n",
        "\n",
        "3.Fluent Interface:\n",
        "This pattern is often used in designing fluent interfaces, where the aim is to provide a more intuitive and readable API.\n",
        "\n",
        "\"\"\""
      ],
      "metadata": {
        "id": "UF1jX2KMuTtp"
      },
      "execution_count": null,
      "outputs": []
    },
    {
      "cell_type": "markdown",
      "source": [
        "**Q25) What is the purpose of the __call__ method in Python?**"
      ],
      "metadata": {
        "id": "wFJwwDkYuxrU"
      }
    },
    {
      "cell_type": "code",
      "source": [
        "\"\"\"\n",
        "The __call__ method in Python allows an object to be invoked (called) as if it were a function. When you define the __call__ method in a class,\n",
        "you make instances of that class callable, meaning you can call the object itself just like you would call a function.\n",
        "This gives objects function-like behavior while still being instances of a class.\n",
        "\n",
        "How the __call__ Method Works:\n",
        "1.__call__ is a special method in Python that is automatically invoked when an instance of a class is called.\n",
        "2.The object itself can be called with arguments, just like a regular function, and inside the __call__ method, you can define the behavior when the object is called.\n",
        "\n",
        "\"\"\""
      ],
      "metadata": {
        "id": "V1btX511u0QU"
      },
      "execution_count": null,
      "outputs": []
    },
    {
      "cell_type": "markdown",
      "source": [
        "**##Practical Questions**"
      ],
      "metadata": {
        "id": "BsYvGfcTvTNz"
      }
    },
    {
      "cell_type": "markdown",
      "source": [
        "Q1) Create a parent class Animal with a method speak() that prints a generic message. Create a child class Dog\n",
        "that overrides the speak() method to print \"Bark!\". **bold text**"
      ],
      "metadata": {
        "id": "hfCQusdovppM"
      }
    },
    {
      "cell_type": "code",
      "source": [
        "\n",
        "class Animal:\n",
        "    def speak(self):\n",
        "        print(\"Animal makes a sound\")\n",
        "\n",
        "class Dog(Animal):\n",
        "    def speak(self):\n",
        "        print(\"Bark!\")\n",
        "\n",
        "animal = Animal()\n",
        "animal.speak()\n",
        "\n",
        "dog = Dog()\n",
        "dog.speak()\n"
      ],
      "metadata": {
        "colab": {
          "base_uri": "https://localhost:8080/"
        },
        "id": "IbgyMiEgvZI_",
        "outputId": "a91826b9-a746-47f6-aa21-20b0b12f550f"
      },
      "execution_count": 1,
      "outputs": [
        {
          "output_type": "stream",
          "name": "stdout",
          "text": [
            "Animal makes a sound\n",
            "Bark!\n"
          ]
        }
      ]
    },
    {
      "cell_type": "markdown",
      "source": [
        "Q2) Write a program to create an abstract class Shape with a method area(). Derive classes Circle and Rectangle\n",
        "from it and implement the area() method in both.\n",
        "\n",
        "\n",
        "**bold text**"
      ],
      "metadata": {
        "id": "AVh8myaUvaFg"
      }
    },
    {
      "cell_type": "code",
      "source": [
        "from abc import ABC, abstractmethod\n",
        "import math\n",
        "\n",
        "\n",
        "class Shape(ABC):\n",
        "    @abstractmethod\n",
        "    def area(self):\n",
        "        pass\n",
        "\n",
        "class Circle(Shape):\n",
        "    def __init__(self, radius):\n",
        "        self.radius = radius\n",
        "\n",
        "    def area(self):\n",
        "        return math.pi * (self.radius ** 2)\n",
        "\n",
        "class Rectangle(Shape):\n",
        "    def __init__(self, width, height):\n",
        "        self.width = width\n",
        "        self.height = height\n",
        "\n",
        "    def area(self):\n",
        "        return self.width * self.height\n",
        "\n",
        "circle = Circle(5)\n",
        "rectangle = Rectangle(4, 6)\n",
        "\n",
        "print(f\"Area of Circle: {circle.area():.2f}\")\n",
        "print(f\"Area of Rectangle: {rectangle.area()}\")"
      ],
      "metadata": {
        "colab": {
          "base_uri": "https://localhost:8080/"
        },
        "id": "Wyy4f_jcv6_z",
        "outputId": "04c9d21d-92c7-4f4f-afee-da78179aa41e"
      },
      "execution_count": 3,
      "outputs": [
        {
          "output_type": "stream",
          "name": "stdout",
          "text": [
            "Area of Circle: 78.54\n",
            "Area of Rectangle: 24\n"
          ]
        }
      ]
    },
    {
      "cell_type": "markdown",
      "source": [
        "Q3) Implement a multi-level inheritance scenario where a class Vehicle has an attribute type. Derive a class Car\n",
        "and further derive a class ElectricCar that adds a battery attribute."
      ],
      "metadata": {
        "id": "34oQB2Aj82uR"
      }
    },
    {
      "cell_type": "code",
      "source": [
        "# Base class\n",
        "class Vehicle:\n",
        "    def __init__(self, vehicle_type):\n",
        "        self.vehicle_type = vehicle_type\n",
        "\n",
        "    def display_info(self):\n",
        "        print(f\"Vehicle Type: {self.vehicle_type}\")\n",
        "\n",
        "\n",
        "# Intermediate class\n",
        "class Car(Vehicle):\n",
        "    def __init__(self, vehicle_type, brand):\n",
        "        super().__init__(vehicle_type)\n",
        "        self.brand = brand\n",
        "\n",
        "    def display_info(self):\n",
        "        super().display_info()\n",
        "        print(f\"Car Brand: {self.brand}\")\n",
        "\n",
        "\n",
        "# Derived class\n",
        "class ElectricCar(Car):\n",
        "    def __init__(self, vehicle_type, brand, battery_capacity):\n",
        "        super().__init__(vehicle_type, brand)\n",
        "        self.battery_capacity = battery_capacity\n",
        "\n",
        "    def display_info(self):\n",
        "        super().display_info()\n",
        "        print(f\"Battery Capacity: {self.battery_capacity} kWh\")\n",
        "\n",
        "\n",
        "# Creating an instance of ElectricCar\n",
        "tesla = ElectricCar(\"Electric\", \"Tesla\", 100)\n",
        "\n",
        "# Displaying information\n",
        "tesla.display_info()\n"
      ],
      "metadata": {
        "colab": {
          "base_uri": "https://localhost:8080/"
        },
        "id": "Z6nFSas06bzF",
        "outputId": "bf474f9f-f023-4f4d-e594-f61526143876"
      },
      "execution_count": 5,
      "outputs": [
        {
          "output_type": "stream",
          "name": "stdout",
          "text": [
            "Vehicle Type: Electric\n",
            "Car Brand: Tesla\n",
            "Battery Capacity: 100 kWh\n"
          ]
        }
      ]
    },
    {
      "cell_type": "markdown",
      "source": [
        "Q4) Implement a multi-level inheritance scenario where a class Vehicle has an attribute type. Derive a class Car\n",
        "and further derive a class ElectricCar that adds a battery attribute."
      ],
      "metadata": {
        "id": "AXePWmCO-QBf"
      }
    },
    {
      "cell_type": "code",
      "source": [
        "# Base class\n",
        "class Vehicle:\n",
        "    def __init__(self, vehicle_type):\n",
        "        self.vehicle_type = vehicle_type\n",
        "\n",
        "    def display_info(self):\n",
        "        print(f\"Vehicle Type: {self.vehicle_type}\")\n",
        "\n",
        "\n",
        "# Intermediate class\n",
        "class Car(Vehicle):\n",
        "    def __init__(self, vehicle_type, brand):\n",
        "        super().__init__(vehicle_type)\n",
        "        self.brand = brand\n",
        "\n",
        "    def display_info(self):\n",
        "        super().display_info()\n",
        "        print(f\"Car Brand: {self.brand}\")\n",
        "\n",
        "\n",
        "# Derived class\n",
        "class ElectricCar(Car):\n",
        "    def __init__(self, vehicle_type, brand, battery_capacity):\n",
        "        super().__init__(vehicle_type, brand)\n",
        "        self.battery_capacity = battery_capacity\n",
        "\n",
        "    def display_info(self):\n",
        "        super().display_info()\n",
        "        print(f\"Battery Capacity: {self.battery_capacity} kWh\")\n",
        "\n",
        "\n",
        "# Create an instance of ElectricCar\n",
        "electric_car = ElectricCar(\"Electric\", \"Tesla\", 100)\n",
        "\n",
        "# Display information\n",
        "electric_car.display_info()\n"
      ],
      "metadata": {
        "colab": {
          "base_uri": "https://localhost:8080/"
        },
        "id": "0KSyfPy794-c",
        "outputId": "186ffcbe-9681-44c7-db49-34d9707ac0bd"
      },
      "execution_count": 6,
      "outputs": [
        {
          "output_type": "stream",
          "name": "stdout",
          "text": [
            "Vehicle Type: Electric\n",
            "Car Brand: Tesla\n",
            "Battery Capacity: 100 kWh\n"
          ]
        }
      ]
    },
    {
      "cell_type": "markdown",
      "source": [
        "Q5) Write a program to demonstrate encapsulation by creating a class BankAccount with private attributes\n",
        "balance and methods to deposit, withdraw, and check balance."
      ],
      "metadata": {
        "id": "rGLLYi5b-E_H"
      }
    },
    {
      "cell_type": "code",
      "source": [
        "# BankAccount class demonstrating encapsulation\n",
        "class BankAccount:\n",
        "    def __init__(self, account_holder, initial_balance=0):\n",
        "        self.account_holder = account_holder  # Public attribute\n",
        "        self.__balance = initial_balance      # Private attribute\n",
        "\n",
        "    # Method to deposit money\n",
        "    def deposit(self, amount):\n",
        "        if amount > 0:\n",
        "            self.__balance += amount\n",
        "            print(f\"Deposited ${amount}. New Balance: ${self.__balance}\")\n",
        "        else:\n",
        "            print(\"Invalid deposit amount. Amount must be positive.\")\n",
        "\n",
        "    # Method to withdraw money\n",
        "    def withdraw(self, amount):\n",
        "        if amount > 0 and amount <= self.__balance:\n",
        "            self.__balance -= amount\n",
        "            print(f\"Withdrew ${amount}. Remaining Balance: ${self.__balance}\")\n",
        "        elif amount > self.__balance:\n",
        "            print(\"Insufficient balance.\")\n",
        "        else:\n",
        "            print(\"Invalid withdrawal amount. Amount must be positive.\")\n",
        "\n",
        "    # Method to check balance\n",
        "    def check_balance(self):\n",
        "        print(f\"Current Balance: ${self.__balance}\")\n",
        "\n",
        "\n",
        "# Testing the BankAccount class\n",
        "account = BankAccount(\"Alice\", 500)\n",
        "\n",
        "# Performing operations\n",
        "account.check_balance()\n",
        "account.deposit(200)\n",
        "account.withdraw(100)\n",
        "account.withdraw(700)  # Attempting to withdraw more than the balance\n",
        "account.check_balance()\n",
        "\n",
        "# Trying to access the private attribute directly (will fail)\n",
        "try:\n",
        "    print(account.__balance)\n",
        "except AttributeError:\n",
        "    print(\"Cannot access private attribute '__balance' directly.\")\n"
      ],
      "metadata": {
        "colab": {
          "base_uri": "https://localhost:8080/"
        },
        "id": "cOUgEa_v-EaH",
        "outputId": "05774750-93a4-46a6-97f8-750e4935e4da"
      },
      "execution_count": 7,
      "outputs": [
        {
          "output_type": "stream",
          "name": "stdout",
          "text": [
            "Current Balance: $500\n",
            "Deposited $200. New Balance: $700\n",
            "Withdrew $100. Remaining Balance: $600\n",
            "Insufficient balance.\n",
            "Current Balance: $600\n",
            "Cannot access private attribute '__balance' directly.\n"
          ]
        }
      ]
    },
    {
      "cell_type": "markdown",
      "source": [
        "Q6) Demonstrate runtime polymorphism using a method play() in a base class Instrument. Derive classes Guitar\n",
        "and Piano that implement their own version of play()."
      ],
      "metadata": {
        "id": "_OkemcHs-qBq"
      }
    },
    {
      "cell_type": "code",
      "source": [
        "# Base class\n",
        "class Instrument:\n",
        "    def play(self):\n",
        "        print(\"Playing an instrument\")\n",
        "\n",
        "# Derived class 1\n",
        "class Guitar(Instrument):\n",
        "    def play(self):\n",
        "        print(\"Strumming the Guitar 🎸\")\n",
        "\n",
        "# Derived class 2\n",
        "class Piano(Instrument):\n",
        "    def play(self):\n",
        "        print(\"Playing the Piano 🎹\")\n",
        "\n",
        "\n",
        "# Function demonstrating polymorphism\n",
        "def start_performance(instrument):\n",
        "    instrument.play()\n",
        "\n",
        "\n",
        "# Testing runtime polymorphism\n",
        "instrument = Instrument()\n",
        "guitar = Guitar()\n",
        "piano = Piano()\n",
        "\n",
        "# Calling play method using runtime polymorphism\n",
        "start_performance(instrument)  # Base class method\n",
        "start_performance(guitar)      # Guitar class method\n",
        "start_performance(piano)       # Piano class method\n"
      ],
      "metadata": {
        "colab": {
          "base_uri": "https://localhost:8080/"
        },
        "id": "895X6UxU-w5N",
        "outputId": "a5eccbf5-bb5b-4cc2-9100-1783f1d90f92"
      },
      "execution_count": 8,
      "outputs": [
        {
          "output_type": "stream",
          "name": "stdout",
          "text": [
            "Playing an instrument\n",
            "Strumming the Guitar 🎸\n",
            "Playing the Piano 🎹\n"
          ]
        }
      ]
    },
    {
      "cell_type": "markdown",
      "source": [
        "Q7) Create a class MathOperations with a class method add_numbers() to add two numbers and a static\n",
        "method subtract_numbers() to subtract two numbers."
      ],
      "metadata": {
        "id": "ZUC8oJAJ-6g6"
      }
    },
    {
      "cell_type": "code",
      "source": [
        "# MathOperations class demonstrating classmethod and staticmethod\n",
        "class MathOperations:\n",
        "    operation_count = 0  # Class-level attribute\n",
        "\n",
        "    @classmethod\n",
        "    def add_numbers(cls, a, b):\n",
        "        \"\"\"Class Method: Adds two numbers and updates operation count.\"\"\"\n",
        "        cls.operation_count += 1\n",
        "        return a + b\n",
        "\n",
        "    @staticmethod\n",
        "    def subtract_numbers(a, b):\n",
        "        \"\"\"Static Method: Subtracts two numbers.\"\"\"\n",
        "        return a - b\n",
        "\n",
        "\n",
        "# Testing the MathOperations class\n",
        "# Using the class method\n",
        "result_add = MathOperations.add_numbers(10, 5)\n",
        "print(f\"Addition Result: {result_add}\")\n",
        "print(f\"Operation Count: {MathOperations.operation_count}\")\n",
        "\n",
        "# Using the static method\n",
        "result_subtract = MathOperations.subtract_numbers(10, 5)\n",
        "print(f\"Subtraction Result: {result_subtract}\")\n",
        "\n",
        "# Accessing operation_count directly\n",
        "print(f\"Final Operation Count: {MathOperations.operation_count}\")\n"
      ],
      "metadata": {
        "colab": {
          "base_uri": "https://localhost:8080/"
        },
        "id": "G5UHnivo-9uS",
        "outputId": "b28c3c46-bf1d-49fe-a335-df8bbed5a31b"
      },
      "execution_count": 9,
      "outputs": [
        {
          "output_type": "stream",
          "name": "stdout",
          "text": [
            "Addition Result: 15\n",
            "Operation Count: 1\n",
            "Subtraction Result: 5\n",
            "Final Operation Count: 1\n"
          ]
        }
      ]
    },
    {
      "cell_type": "markdown",
      "source": [
        "8) Implement a class Person with a class method to count the total number of persons created"
      ],
      "metadata": {
        "id": "Hj2Cgw5f_IWF"
      }
    },
    {
      "cell_type": "code",
      "source": [
        "# Person class with a class method to count instances\n",
        "class Person:\n",
        "    # Class attribute to count the number of Person instances\n",
        "    total_persons = 0\n",
        "\n",
        "    def __init__(self, name):\n",
        "        self.name = name\n",
        "        Person.total_persons += 1  # Increment counter when a new instance is created\n",
        "\n",
        "    @classmethod\n",
        "    def get_total_persons(cls):\n",
        "        \"\"\"Class method to return the total number of Person instances.\"\"\"\n",
        "        return cls.total_persons\n",
        "\n",
        "\n",
        "# Testing the Person class\n",
        "person1 = Person(\"Alice\")\n",
        "person2 = Person(\"Bob\")\n",
        "person3 = Person(\"Charlie\")\n",
        "\n",
        "# Accessing the total number of persons created using the class method\n",
        "print(f\"Total number of persons created: {Person.get_total_persons()}\")\n"
      ],
      "metadata": {
        "colab": {
          "base_uri": "https://localhost:8080/"
        },
        "id": "UF0LfES6_S4K",
        "outputId": "5e697bdd-718d-4ab6-aa6f-b4d74e41719f"
      },
      "execution_count": 10,
      "outputs": [
        {
          "output_type": "stream",
          "name": "stdout",
          "text": [
            "Total number of persons created: 3\n"
          ]
        }
      ]
    },
    {
      "cell_type": "markdown",
      "source": [
        "Q9) Write a class Fraction with attributes numerator and denominator. Override the str method to display the\n",
        "fraction as \"numerator/denominator\"."
      ],
      "metadata": {
        "id": "psqU0EYU_U2Z"
      }
    },
    {
      "cell_type": "code",
      "source": [
        "# Fraction class with __str__ method override\n",
        "class Fraction:\n",
        "    def __init__(self, numerator, denominator):\n",
        "        if denominator == 0:\n",
        "            raise ValueError(\"Denominator cannot be zero.\")\n",
        "        self.numerator = numerator\n",
        "        self.denominator = denominator\n",
        "\n",
        "    def __str__(self):\n",
        "        \"\"\"Override __str__ to display fraction as 'numerator/denominator'.\"\"\"\n",
        "        return f\"{self.numerator}/{self.denominator}\"\n",
        "\n",
        "\n",
        "# Testing the Fraction class\n",
        "fraction1 = Fraction(3, 4)\n",
        "fraction2 = Fraction(5, 8)\n",
        "\n",
        "print(f\"First Fraction: {fraction1}\")\n",
        "print(f\"Second Fraction: {fraction2}\")\n"
      ],
      "metadata": {
        "colab": {
          "base_uri": "https://localhost:8080/"
        },
        "id": "SRpZSqx2_ZHg",
        "outputId": "9bfc93a5-d09c-4376-d585-99958253c4c8"
      },
      "execution_count": 11,
      "outputs": [
        {
          "output_type": "stream",
          "name": "stdout",
          "text": [
            "First Fraction: 3/4\n",
            "Second Fraction: 5/8\n"
          ]
        }
      ]
    },
    {
      "cell_type": "markdown",
      "source": [
        "Q10) Demonstrate operator overloading by creating a class Vector and overriding the add method to add two\n",
        "vectors."
      ],
      "metadata": {
        "id": "hbYqNKt-_h3K"
      }
    },
    {
      "cell_type": "code",
      "source": [
        "# Vector class with operator overloading\n",
        "class Vector:\n",
        "    def __init__(self, x, y):\n",
        "        self.x = x\n",
        "        self.y = y\n",
        "\n",
        "    def __add__(self, other):\n",
        "        \"\"\"Override the + operator to add two vectors.\"\"\"\n",
        "        if isinstance(other, Vector):\n",
        "            return Vector(self.x + other.x, self.y + other.y)\n",
        "        return NotImplemented\n",
        "\n",
        "    def __str__(self):\n",
        "        \"\"\"Override __str__ to print the vector as (x, y).\"\"\"\n",
        "        return f\"({self.x}, {self.y})\"\n",
        "\n",
        "\n",
        "# Testing the Vector class with operator overloading\n",
        "vector1 = Vector(3, 4)\n",
        "vector2 = Vector(1, 2)\n",
        "\n",
        "# Adding two vectors using overloaded + operator\n",
        "result_vector = vector1 + vector2\n",
        "\n",
        "# Printing the result\n",
        "print(f\"Vector 1: {vector1}\")\n",
        "print(f\"Vector 2: {vector2}\")\n",
        "print(f\"Result of addition: {result_vector}\")\n"
      ],
      "metadata": {
        "colab": {
          "base_uri": "https://localhost:8080/"
        },
        "id": "Ob2usjc1_kkM",
        "outputId": "da0a0953-d5c9-422d-e75f-f78cd319faf4"
      },
      "execution_count": 12,
      "outputs": [
        {
          "output_type": "stream",
          "name": "stdout",
          "text": [
            "Vector 1: (3, 4)\n",
            "Vector 2: (1, 2)\n",
            "Result of addition: (4, 6)\n"
          ]
        }
      ]
    },
    {
      "cell_type": "markdown",
      "source": [
        "Q!!) Create a class Person with attributes name and age. Add a method greet() that prints \"Hello, my name is\n",
        "{name} and I am {age} years old."
      ],
      "metadata": {
        "id": "jIYFTVUz_wCc"
      }
    },
    {
      "cell_type": "code",
      "source": [
        "# Person class with name, age, and greet method\n",
        "class Person:\n",
        "    def __init__(self, name, age):\n",
        "        self.name = name  # Name attribute\n",
        "        self.age = age    # Age attribute\n",
        "\n",
        "    def greet(self):\n",
        "        \"\"\"Method to print a greeting with name and age.\"\"\"\n",
        "        print(f\"Hello, my name is {self.name} and I am {self.age} years old.\")\n",
        "\n",
        "\n",
        "# Testing the Person class\n",
        "person1 = Person(\"Alice\", 30)\n",
        "person2 = Person(\"Bob\", 25)\n",
        "\n",
        "# Calling greet method on person objects\n",
        "person1.greet()\n",
        "person2.greet()\n"
      ],
      "metadata": {
        "colab": {
          "base_uri": "https://localhost:8080/"
        },
        "id": "Fr9rj-C2_0W2",
        "outputId": "09bd092e-ca3c-4476-eb5a-6b2416191884"
      },
      "execution_count": 13,
      "outputs": [
        {
          "output_type": "stream",
          "name": "stdout",
          "text": [
            "Hello, my name is Alice and I am 30 years old.\n",
            "Hello, my name is Bob and I am 25 years old.\n"
          ]
        }
      ]
    },
    {
      "cell_type": "markdown",
      "source": [
        "Q12) Implement a class Student with attributes name and grades. Create a method average_grade() to compute\n",
        "the average of the grades."
      ],
      "metadata": {
        "id": "BG1shP-f__uK"
      }
    },
    {
      "cell_type": "code",
      "source": [
        "# Student class with name, grades, and method to compute average grade\n",
        "class Student:\n",
        "    def __init__(self, name, grades):\n",
        "        self.name = name         # Name attribute\n",
        "        self.grades = grades     # Grades attribute (a list of grades)\n",
        "\n",
        "    def average_grade(self):\n",
        "        \"\"\"Method to compute the average of the grades.\"\"\"\n",
        "        if not self.grades:\n",
        "            return 0  # Return 0 if the grades list is empty\n",
        "        return sum(self.grades) / len(self.grades)\n",
        "\n",
        "\n",
        "# Testing the Student class\n",
        "student1 = Student(\"Alice\", [85, 90, 78, 92])\n",
        "student2 = Student(\"Bob\", [88, 76, 94, 89, 78])\n",
        "\n",
        "# Calling the average_grade method\n",
        "print(f\"{student1.name}'s average grade: {student1.average_grade():.2f}\")\n",
        "print(f\"{student2.name}'s average grade: {student2.average_grade():.2f}\")\n"
      ],
      "metadata": {
        "colab": {
          "base_uri": "https://localhost:8080/"
        },
        "id": "aF4hF4wqACR1",
        "outputId": "ae32534f-e832-4e95-cddb-8a8ed744b7e9"
      },
      "execution_count": 14,
      "outputs": [
        {
          "output_type": "stream",
          "name": "stdout",
          "text": [
            "Alice's average grade: 86.25\n",
            "Bob's average grade: 85.00\n"
          ]
        }
      ]
    },
    {
      "cell_type": "markdown",
      "source": [
        "Q13)Create a class Rectangle with methods set_dimensions() to set the dimensions and area() to calculate the\n",
        "area."
      ],
      "metadata": {
        "id": "xQgCzhODAJ34"
      }
    },
    {
      "cell_type": "code",
      "source": [
        "# Rectangle class with methods to set dimensions and calculate area\n",
        "class Rectangle:\n",
        "    def __init__(self, length=0, width=0):\n",
        "        self.length = length  # Length of the rectangle\n",
        "        self.width = width    # Width of the rectangle\n",
        "\n",
        "    def set_dimensions(self, length, width):\n",
        "        \"\"\"Method to set the length and width of the rectangle.\"\"\"\n",
        "        self.length = length\n",
        "        self.width = width\n",
        "\n",
        "    def area(self):\n",
        "        \"\"\"Method to calculate the area of the rectangle.\"\"\"\n",
        "        return self.length * self.width\n",
        "\n",
        "\n",
        "# Testing the Rectangle class\n",
        "rect1 = Rectangle()\n",
        "rect2 = Rectangle(4, 5)\n",
        "\n",
        "# Setting dimensions for the first rectangle using set_dimensions\n",
        "rect1.set_dimensions(3, 6)\n",
        "\n",
        "# Printing areas\n",
        "print(f\"Area of rectangle 1: {rect1.area()}\")\n",
        "print(f\"Area of rectangle 2: {rect2.area()}\")\n"
      ],
      "metadata": {
        "colab": {
          "base_uri": "https://localhost:8080/"
        },
        "id": "6QFdDT_uAOsV",
        "outputId": "c408103c-6d1d-4700-f9a9-8b7b90c86d49"
      },
      "execution_count": 15,
      "outputs": [
        {
          "output_type": "stream",
          "name": "stdout",
          "text": [
            "Area of rectangle 1: 18\n",
            "Area of rectangle 2: 20\n"
          ]
        }
      ]
    },
    {
      "cell_type": "markdown",
      "source": [
        "Q14)Create a class Employee with a method calculate_salary() that computes the salary based on hours worked\n",
        "and hourly rate. Create a derived class Manager that adds a bonus to the salary."
      ],
      "metadata": {
        "id": "CDLhz9a6AVBg"
      }
    },
    {
      "cell_type": "code",
      "source": [
        "# Base Employee class\n",
        "class Employee:\n",
        "    def __init__(self, name, hours_worked, hourly_rate):\n",
        "        self.name = name              # Employee's name\n",
        "        self.hours_worked = hours_worked  # Number of hours worked\n",
        "        self.hourly_rate = hourly_rate    # Hourly rate of pay\n",
        "\n",
        "    def calculate_salary(self):\n",
        "        \"\"\"Method to calculate the salary of the employee.\"\"\"\n",
        "        return self.hours_worked * self.hourly_rate\n",
        "\n",
        "\n",
        "# Derived Manager class with a bonus\n",
        "class Manager(Employee):\n",
        "    def __init__(self, name, hours_worked, hourly_rate, bonus):\n",
        "        super().__init__(name, hours_worked, hourly_rate)  # Call Employee's constructor\n",
        "        self.bonus = bonus  # Bonus for the manager\n",
        "\n",
        "    def calculate_salary(self):\n",
        "        \"\"\"Override calculate_salary to include bonus for Manager.\"\"\"\n",
        "        base_salary = super().calculate_salary()  # Call base class method\n",
        "        return base_salary + self.bonus\n",
        "\n",
        "\n",
        "# Testing the Employee and Manager classes\n",
        "employee = Employee(\"John\", 40, 20)  # 40 hours worked, $20 per hour\n",
        "manager = Manager(\"Alice\", 40, 25, 500)  # 40 hours worked, $25 per hour, $500 bonus\n",
        "\n",
        "# Calculating and printing salaries\n",
        "print(f\"{employee.name}'s salary: ${employee.calculate_salary()}\")\n",
        "print(f\"{manager.name}'s salary (with bonus): ${manager.calculate_salary()}\")\n"
      ],
      "metadata": {
        "colab": {
          "base_uri": "https://localhost:8080/"
        },
        "id": "gJZMHVxRAYj4",
        "outputId": "12b6e822-88cb-4892-e21d-2ffc5fa09039"
      },
      "execution_count": 16,
      "outputs": [
        {
          "output_type": "stream",
          "name": "stdout",
          "text": [
            "John's salary: $800\n",
            "Alice's salary (with bonus): $1500\n"
          ]
        }
      ]
    },
    {
      "cell_type": "markdown",
      "source": [
        "Q15)Create a class Product with attributes name, price, and quantity. Implement a method total_price() that\n",
        "calculates the total price of the product."
      ],
      "metadata": {
        "id": "pTJ-Rf0NAl1X"
      }
    },
    {
      "cell_type": "code",
      "source": [
        "# Product class with name, price, quantity, and total_price method\n",
        "class Product:\n",
        "    def __init__(self, name, price, quantity):\n",
        "        self.name = name          # Name of the product\n",
        "        self.price = price        # Price of the product\n",
        "        self.quantity = quantity  # Quantity of the product\n",
        "\n",
        "    def total_price(self):\n",
        "        \"\"\"Method to calculate the total price of the product.\"\"\"\n",
        "        return self.price * self.quantity\n",
        "\n",
        "\n",
        "# Testing the Product class\n",
        "product1 = Product(\"Laptop\", 1000, 3)\n",
        "product2 = Product(\"Smartphone\", 500, 5)\n",
        "\n",
        "# Calculating and printing total prices\n",
        "print(f\"Total price of {product1.name}: ${product1.total_price()}\")\n",
        "print(f\"Total price of {product2.name}: ${product2.total_price()}\")\n"
      ],
      "metadata": {
        "colab": {
          "base_uri": "https://localhost:8080/"
        },
        "id": "_rFeicLXAoS6",
        "outputId": "c1196a02-bf08-4799-b911-a3daeb6d1748"
      },
      "execution_count": 17,
      "outputs": [
        {
          "output_type": "stream",
          "name": "stdout",
          "text": [
            "Total price of Laptop: $3000\n",
            "Total price of Smartphone: $2500\n"
          ]
        }
      ]
    },
    {
      "cell_type": "markdown",
      "source": [
        "Q16)Create a class Animal with an abstract method sound(). Create two derived classes Cow and Sheep that\n",
        "implement the sound() method."
      ],
      "metadata": {
        "id": "1Qzowfh8A3Kw"
      }
    },
    {
      "cell_type": "code",
      "source": [
        "from abc import ABC, abstractmethod\n",
        "\n",
        "# Abstract Animal class\n",
        "class Animal(ABC):\n",
        "    @abstractmethod\n",
        "    def sound(self):\n",
        "        \"\"\"Abstract method to define the sound of the animal.\"\"\"\n",
        "        pass\n",
        "\n",
        "# Derived Cow class\n",
        "class Cow(Animal):\n",
        "    def sound(self):\n",
        "        \"\"\"Implement the sound method for Cow.\"\"\"\n",
        "        return \"Moo\"\n",
        "\n",
        "# Derived Sheep class\n",
        "class Sheep(Animal):\n",
        "    def sound(self):\n",
        "        \"\"\"Implement the sound method for Sheep.\"\"\"\n",
        "        return \"Baa\"\n",
        "\n",
        "# Testing the classes\n",
        "cow = Cow()\n",
        "sheep = Sheep()\n",
        "\n",
        "# Calling the sound method\n",
        "print(f\"Cow sound: {cow.sound()}\")\n",
        "print(f\"Sheep sound: {sheep.sound()}\")\n"
      ],
      "metadata": {
        "colab": {
          "base_uri": "https://localhost:8080/"
        },
        "id": "giiQF_YhA8E1",
        "outputId": "a0d814e8-84bc-4a6e-83ef-72a3c283da71"
      },
      "execution_count": 18,
      "outputs": [
        {
          "output_type": "stream",
          "name": "stdout",
          "text": [
            "Cow sound: Moo\n",
            "Sheep sound: Baa\n"
          ]
        }
      ]
    },
    {
      "cell_type": "markdown",
      "source": [
        "Q17)Create a class Book with attributes title, author, and year_published. Add a method get_book_info() that\n",
        "returns a formatted string with the book's details."
      ],
      "metadata": {
        "id": "rdXW1IrNBGsp"
      }
    },
    {
      "cell_type": "code",
      "source": [
        "# Book class with attributes title, author, and year_published\n",
        "class Book:\n",
        "    def __init__(self, title, author, year_published):\n",
        "        self.title = title              # Title of the book\n",
        "        self.author = author            # Author of the book\n",
        "        self.year_published = year_published  # Year the book was published\n",
        "\n",
        "    def get_book_info(self):\n",
        "        \"\"\"Method to return a formatted string with the book's details.\"\"\"\n",
        "        return f\"'{self.title}' by {self.author}, published in {self.year_published}\"\n",
        "\n",
        "\n",
        "# Testing the Book class\n",
        "book1 = Book(\"To Kill a Mockingbird\", \"Harper Lee\", 1960)\n",
        "book2 = Book(\"1984\", \"George Orwell\", 1949)\n",
        "\n",
        "# Getting and printing book information\n",
        "print(book1.get_book_info())\n",
        "print(book2.get_book_info())\n"
      ],
      "metadata": {
        "colab": {
          "base_uri": "https://localhost:8080/"
        },
        "id": "6U73YiNLBPE8",
        "outputId": "42c41bcf-ce40-4a57-ade2-fafd538215f6"
      },
      "execution_count": 19,
      "outputs": [
        {
          "output_type": "stream",
          "name": "stdout",
          "text": [
            "'To Kill a Mockingbird' by Harper Lee, published in 1960\n",
            "'1984' by George Orwell, published in 1949\n"
          ]
        }
      ]
    },
    {
      "cell_type": "markdown",
      "source": [
        "Q18)Create a class House with attributes address and price. Create a derived class Mansion that adds an\n",
        "attribute number_of_rooms."
      ],
      "metadata": {
        "id": "lZ0XOJjIBUIu"
      }
    },
    {
      "cell_type": "code",
      "source": [
        "# Base House class\n",
        "class House:\n",
        "    def __init__(self, address, price):\n",
        "        self.address = address  # Address of the house\n",
        "        self.price = price      # Price of the house\n",
        "\n",
        "    def get_house_info(self):\n",
        "        \"\"\"Method to return basic house information.\"\"\"\n",
        "        return f\"House located at {self.address}, priced at ${self.price}\"\n",
        "\n",
        "# Derived Mansion class\n",
        "class Mansion(House):\n",
        "    def __init__(self, address, price, number_of_rooms):\n",
        "        super().__init__(address, price)  # Call the constructor of the base class (House)\n",
        "        self.number_of_rooms = number_of_rooms  # Number of rooms in the mansion\n",
        "\n",
        "    def get_mansion_info(self):\n",
        "        \"\"\"Method to return information about the mansion, including number of rooms.\"\"\"\n",
        "        return f\"{self.get_house_info()}, with {self.number_of_rooms} rooms\"\n",
        "\n",
        "# Testing the House and Mansion classes\n",
        "house = House(\"1234 Elm St\", 250000)\n",
        "mansion = Mansion(\"5678 Oak Ave\", 5000000, 15)\n",
        "\n",
        "# Getting and printing information about the house and mansion\n",
        "print(house.get_house_info())\n",
        "print(mansion.get_mansion_info())\n"
      ],
      "metadata": {
        "colab": {
          "base_uri": "https://localhost:8080/"
        },
        "id": "D62vIqb-BZe7",
        "outputId": "7f7c49c4-05f4-491d-b0d0-1d1ab199e738"
      },
      "execution_count": 20,
      "outputs": [
        {
          "output_type": "stream",
          "name": "stdout",
          "text": [
            "House located at 1234 Elm St, priced at $250000\n",
            "House located at 5678 Oak Ave, priced at $5000000, with 15 rooms\n"
          ]
        }
      ]
    }
  ]
}